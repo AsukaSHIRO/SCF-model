{
 "cells": [
  {
   "cell_type": "markdown",
   "metadata": {},
   "source": [
    "## The Movie Recommendation System Based on Sentiment Analysis"
   ]
  },
  {
   "cell_type": "markdown",
   "metadata": {},
   "source": [
    "### 1. Preprocessing"
   ]
  },
  {
   "cell_type": "code",
   "execution_count": 18,
   "metadata": {},
   "outputs": [],
   "source": [
    "import pandas as pd\n",
    "import numpy as np\n",
    "from tqdm import tqdm;"
   ]
  },
  {
   "cell_type": "code",
   "execution_count": 19,
   "metadata": {},
   "outputs": [],
   "source": [
    "# Load data\n",
    "df = pd.read_csv(\"rotten_tomatoes/rotten_tomatoes_critic_reviews.csv\")"
   ]
  },
  {
   "cell_type": "code",
   "execution_count": 20,
   "metadata": {},
   "outputs": [],
   "source": [
    "# Remove rows with na values\n",
    "df_no_blanks = df.dropna()\n",
    "# Remove duplicated rows\n",
    "df_no_blanks = df_no_blanks[~df_no_blanks.duplicated()]"
   ]
  },
  {
   "cell_type": "code",
   "execution_count": 21,
   "metadata": {},
   "outputs": [],
   "source": [
    "# Change ratings to floats for later evaluation\n",
    "def computeScore(score_str):\n",
    "    items = score_str.split('/')\n",
    "    return float(items[0])/float(items[1])\n",
    "\n",
    "df_no_blanks = df_no_blanks[df_no_blanks['review_score'].str.contains('/')]\n",
    "df_no_blanks = df_no_blanks[~df_no_blanks['review_score'].str.contains('/0')] # The division should not be 0\n",
    "df_no_blanks['review_score'] = df_no_blanks['review_score'].apply(computeScore)"
   ]
  },
  {
   "cell_type": "code",
   "execution_count": 22,
   "metadata": {},
   "outputs": [],
   "source": [
    "# Filter out popular movies: films more than 100 reviews\n",
    "popular_movies = df_no_blanks.groupby('rotten_tomatoes_link').count()['critic_name']>=100\n",
    "df_popular_movies = df_no_blanks[df_no_blanks['rotten_tomatoes_link'].isin(popular_movies[popular_movies].index)];"
   ]
  },
  {
   "cell_type": "code",
   "execution_count": 23,
   "metadata": {},
   "outputs": [
    {
     "name": "stdout",
     "output_type": "stream",
     "text": [
      "How many popular movies? 1567\n"
     ]
    }
   ],
   "source": [
    "print(\"How many popular movies?\", df_popular_movies['rotten_tomatoes_link'].unique().size)"
   ]
  },
  {
   "cell_type": "code",
   "execution_count": 24,
   "metadata": {},
   "outputs": [
    {
     "data": {
      "text/html": [
       "<div>\n",
       "<style scoped>\n",
       "    .dataframe tbody tr th:only-of-type {\n",
       "        vertical-align: middle;\n",
       "    }\n",
       "\n",
       "    .dataframe tbody tr th {\n",
       "        vertical-align: top;\n",
       "    }\n",
       "\n",
       "    .dataframe thead th {\n",
       "        text-align: right;\n",
       "    }\n",
       "</style>\n",
       "<table border=\"1\" class=\"dataframe\">\n",
       "  <thead>\n",
       "    <tr style=\"text-align: right;\">\n",
       "      <th></th>\n",
       "      <th>critic_name</th>\n",
       "      <th>total_reviews</th>\n",
       "    </tr>\n",
       "  </thead>\n",
       "  <tbody>\n",
       "    <tr>\n",
       "      <th>0</th>\n",
       "      <td>A.A. Dowd</td>\n",
       "      <td>21</td>\n",
       "    </tr>\n",
       "    <tr>\n",
       "      <th>1</th>\n",
       "      <td>A.O. Scott</td>\n",
       "      <td>351</td>\n",
       "    </tr>\n",
       "    <tr>\n",
       "      <th>2</th>\n",
       "      <td>A.S. Hamrah</td>\n",
       "      <td>3</td>\n",
       "    </tr>\n",
       "    <tr>\n",
       "      <th>3</th>\n",
       "      <td>AJ Caulfield</td>\n",
       "      <td>12</td>\n",
       "    </tr>\n",
       "    <tr>\n",
       "      <th>4</th>\n",
       "      <td>AP Kryza</td>\n",
       "      <td>4</td>\n",
       "    </tr>\n",
       "    <tr>\n",
       "      <th>...</th>\n",
       "      <td>...</td>\n",
       "      <td>...</td>\n",
       "    </tr>\n",
       "    <tr>\n",
       "      <th>4001</th>\n",
       "      <td>Zena Dixon</td>\n",
       "      <td>4</td>\n",
       "    </tr>\n",
       "    <tr>\n",
       "      <th>4002</th>\n",
       "      <td>Zoe Margolis</td>\n",
       "      <td>12</td>\n",
       "    </tr>\n",
       "    <tr>\n",
       "      <th>4003</th>\n",
       "      <td>Zoe Rose Smith</td>\n",
       "      <td>6</td>\n",
       "    </tr>\n",
       "    <tr>\n",
       "      <th>4004</th>\n",
       "      <td>Zosia Bielski</td>\n",
       "      <td>1</td>\n",
       "    </tr>\n",
       "    <tr>\n",
       "      <th>4005</th>\n",
       "      <td>Álex Manzano</td>\n",
       "      <td>6</td>\n",
       "    </tr>\n",
       "  </tbody>\n",
       "</table>\n",
       "<p>4006 rows × 2 columns</p>\n",
       "</div>"
      ],
      "text/plain": [
       "         critic_name  total_reviews\n",
       "0          A.A. Dowd             21\n",
       "1         A.O. Scott            351\n",
       "2        A.S. Hamrah              3\n",
       "3       AJ Caulfield             12\n",
       "4           AP Kryza              4\n",
       "...              ...            ...\n",
       "4001      Zena Dixon              4\n",
       "4002    Zoe Margolis             12\n",
       "4003  Zoe Rose Smith              6\n",
       "4004   Zosia Bielski              1\n",
       "4005    Álex Manzano              6\n",
       "\n",
       "[4006 rows x 2 columns]"
      ]
     },
     "execution_count": 24,
     "metadata": {},
     "output_type": "execute_result"
    }
   ],
   "source": [
    "df_group = df_popular_movies.groupby(\"critic_name\")\n",
    "# Count the number of reviews for each reviewer (Series)\n",
    "s = df_group.aggregate(\"critic_name\").count()\n",
    "# Change the Series into DataFrame\n",
    "df_total_reviews = pd.DataFrame({\"critic_name\":s.index, \"total_reviews\":s.values})\n",
    "df_total_reviews"
   ]
  },
  {
   "cell_type": "code",
   "execution_count": 25,
   "metadata": {},
   "outputs": [
    {
     "data": {
      "text/html": [
       "<div>\n",
       "<style scoped>\n",
       "    .dataframe tbody tr th:only-of-type {\n",
       "        vertical-align: middle;\n",
       "    }\n",
       "\n",
       "    .dataframe tbody tr th {\n",
       "        vertical-align: top;\n",
       "    }\n",
       "\n",
       "    .dataframe thead th {\n",
       "        text-align: right;\n",
       "    }\n",
       "</style>\n",
       "<table border=\"1\" class=\"dataframe\">\n",
       "  <thead>\n",
       "    <tr style=\"text-align: right;\">\n",
       "      <th></th>\n",
       "      <th>critic_name</th>\n",
       "      <th>total_reviews</th>\n",
       "    </tr>\n",
       "  </thead>\n",
       "  <tbody>\n",
       "    <tr>\n",
       "      <th>1</th>\n",
       "      <td>A.O. Scott</td>\n",
       "      <td>351</td>\n",
       "    </tr>\n",
       "    <tr>\n",
       "      <th>142</th>\n",
       "      <td>Alex Zane</td>\n",
       "      <td>307</td>\n",
       "    </tr>\n",
       "    <tr>\n",
       "      <th>177</th>\n",
       "      <td>Alistair Harkness</td>\n",
       "      <td>578</td>\n",
       "    </tr>\n",
       "    <tr>\n",
       "      <th>179</th>\n",
       "      <td>Allan Hunter</td>\n",
       "      <td>502</td>\n",
       "    </tr>\n",
       "    <tr>\n",
       "      <th>181</th>\n",
       "      <td>Allen Adams</td>\n",
       "      <td>315</td>\n",
       "    </tr>\n",
       "    <tr>\n",
       "      <th>...</th>\n",
       "      <td>...</td>\n",
       "      <td>...</td>\n",
       "    </tr>\n",
       "    <tr>\n",
       "      <th>3949</th>\n",
       "      <td>Wendy Ide</td>\n",
       "      <td>313</td>\n",
       "    </tr>\n",
       "    <tr>\n",
       "      <th>3952</th>\n",
       "      <td>Wesley Lovell</td>\n",
       "      <td>524</td>\n",
       "    </tr>\n",
       "    <tr>\n",
       "      <th>3953</th>\n",
       "      <td>Wesley Morris</td>\n",
       "      <td>329</td>\n",
       "    </tr>\n",
       "    <tr>\n",
       "      <th>3971</th>\n",
       "      <td>Willie Waffle</td>\n",
       "      <td>852</td>\n",
       "    </tr>\n",
       "    <tr>\n",
       "      <th>3983</th>\n",
       "      <td>Yasser Medina</td>\n",
       "      <td>313</td>\n",
       "    </tr>\n",
       "  </tbody>\n",
       "</table>\n",
       "<p>198 rows × 2 columns</p>\n",
       "</div>"
      ],
      "text/plain": [
       "            critic_name  total_reviews\n",
       "1            A.O. Scott            351\n",
       "142           Alex Zane            307\n",
       "177   Alistair Harkness            578\n",
       "179        Allan Hunter            502\n",
       "181         Allen Adams            315\n",
       "...                 ...            ...\n",
       "3949          Wendy Ide            313\n",
       "3952      Wesley Lovell            524\n",
       "3953      Wesley Morris            329\n",
       "3971      Willie Waffle            852\n",
       "3983      Yasser Medina            313\n",
       "\n",
       "[198 rows x 2 columns]"
      ]
     },
     "execution_count": 25,
     "metadata": {},
     "output_type": "execute_result"
    }
   ],
   "source": [
    "# Filter out top criticsz: remove critics with fewer than 300 reviews\n",
    "df_over_300 = df_total_reviews[df_total_reviews['total_reviews']>300]\n",
    "df_over_300"
   ]
  },
  {
   "cell_type": "code",
   "execution_count": 26,
   "metadata": {},
   "outputs": [],
   "source": [
    "critics = pd.Series(df_over_300['critic_name'])"
   ]
  },
  {
   "cell_type": "code",
   "execution_count": 27,
   "metadata": {},
   "outputs": [
    {
     "name": "stderr",
     "output_type": "stream",
     "text": [
      "/var/folders/wz/h_6nw9152213fkhs5pzrq24m0000gn/T/ipykernel_15992/615313781.py:3: SettingWithCopyWarning: \n",
      "A value is trying to be set on a copy of a slice from a DataFrame.\n",
      "Try using .loc[row_indexer,col_indexer] = value instead\n",
      "\n",
      "See the caveats in the documentation: https://pandas.pydata.org/pandas-docs/stable/user_guide/indexing.html#returning-a-view-versus-a-copy\n",
      "  sample_critics['review_type'] = sample_critics['review_type'].map({'Fresh': 1, 'Rotten': -1})\n"
     ]
    }
   ],
   "source": [
    "critics = critics.sample(100, random_state=100) # mark\n",
    "sample_critics = df_popular_movies[df_popular_movies['critic_name'].isin(critics)]\n",
    "sample_critics['review_type'] = sample_critics['review_type'].map({'Fresh': 1, 'Rotten': -1})"
   ]
  },
  {
   "cell_type": "code",
   "execution_count": 28,
   "metadata": {},
   "outputs": [],
   "source": [
    "# Define the test set\n",
    "test_set = {}\n",
    "\n",
    "for critic in critics:\n",
    "    critic_df = sample_critics.groupby('critic_name').get_group(critic)\n",
    "    test_samples = critic_df[critic_df['review_type']==1].sample(n=int(critic_df.shape[0]*0.2), random_state=100)\n",
    "    test_set[critic] = test_samples['rotten_tomatoes_link'].unique()"
   ]
  },
  {
   "cell_type": "code",
   "execution_count": 29,
   "metadata": {},
   "outputs": [
    {
     "name": "stderr",
     "output_type": "stream",
     "text": [
      "100%|██████████| 100/100 [01:02<00:00,  1.59it/s]\n",
      "/Library/Frameworks/Python.framework/Versions/3.9/lib/python3.9/site-packages/pandas/core/frame.py:4906: SettingWithCopyWarning: \n",
      "A value is trying to be set on a copy of a slice from a DataFrame\n",
      "\n",
      "See the caveats in the documentation: https://pandas.pydata.org/pandas-docs/stable/user_guide/indexing.html#returning-a-view-versus-a-copy\n",
      "  return super().drop(\n"
     ]
    }
   ],
   "source": [
    "# Remove test samples from the original data frame\n",
    "remove_ids = []\n",
    "\n",
    "for critic in tqdm(test_set):\n",
    "    remove_movie_ids = test_set[critic]\n",
    "    for movie_id in remove_movie_ids:\n",
    "        remove_ids += list(sample_critics[(sample_critics['critic_name']==critic)&(sample_critics['rotten_tomatoes_link']==movie_id)].index)\n",
    "\n",
    "sample_critics.drop(remove_ids, inplace=True)"
   ]
  },
  {
   "cell_type": "code",
   "execution_count": 30,
   "metadata": {},
   "outputs": [],
   "source": [
    "# Import VADER sentiment analysis\n",
    "from nltk.sentiment.vader import SentimentIntensityAnalyzer\n",
    "sid = SentimentIntensityAnalyzer()"
   ]
  },
  {
   "cell_type": "code",
   "execution_count": 31,
   "metadata": {},
   "outputs": [
    {
     "name": "stderr",
     "output_type": "stream",
     "text": [
      "/var/folders/wz/h_6nw9152213fkhs5pzrq24m0000gn/T/ipykernel_15992/683875317.py:5: SettingWithCopyWarning: \n",
      "A value is trying to be set on a copy of a slice from a DataFrame.\n",
      "Try using .loc[row_indexer,col_indexer] = value instead\n",
      "\n",
      "See the caveats in the documentation: https://pandas.pydata.org/pandas-docs/stable/user_guide/indexing.html#returning-a-view-versus-a-copy\n",
      "  sample_critics['sentiment_score'] = sample_critics['review_content'].apply(lambda x: normalize(sid.polarity_scores(x)['compound']))\n"
     ]
    }
   ],
   "source": [
    "# Uniform sentiment scores: [-1, 1] -> +1 -> [0, 2] -> /2 -> [0, 1]\n",
    "def normalize(score):\n",
    "    return (score+1)/2\n",
    "\n",
    "sample_critics['sentiment_score'] = sample_critics['review_content'].apply(lambda x: normalize(sid.polarity_scores(x)['compound']))"
   ]
  },
  {
   "cell_type": "code",
   "execution_count": 32,
   "metadata": {},
   "outputs": [],
   "source": [
    "critics = critics.values"
   ]
  },
  {
   "cell_type": "markdown",
   "metadata": {},
   "source": [
    "### 2. Evaluation"
   ]
  },
  {
   "cell_type": "markdown",
   "metadata": {},
   "source": [
    "### 2.1 Baseline: Content-based RS"
   ]
  },
  {
   "cell_type": "code",
   "execution_count": 67,
   "metadata": {},
   "outputs": [],
   "source": [
    "from sklearn.feature_extraction.text import TfidfVectorizer\n",
    "df_movies = pd.read_csv(\"rotten_tomatoes/rotten_tomatoes_movies.csv\")"
   ]
  },
  {
   "cell_type": "code",
   "execution_count": 68,
   "metadata": {},
   "outputs": [],
   "source": [
    "# Select df for popular movies\n",
    "df_movies = df_movies[df_movies[\"rotten_tomatoes_link\"].isin(df_popular_movies[\"rotten_tomatoes_link\"].unique())]"
   ]
  },
  {
   "cell_type": "code",
   "execution_count": 69,
   "metadata": {},
   "outputs": [
    {
     "data": {
      "text/plain": [
       "(1567, 14008)"
      ]
     },
     "execution_count": 69,
     "metadata": {},
     "output_type": "execute_result"
    }
   ],
   "source": [
    "# TF-IDF vectoriser\n",
    "tfidf = TfidfVectorizer(stop_words=\"english\")\n",
    "df_movies[\"movie_info\"] = df_movies[\"movie_info\"].fillna(\"\")\n",
    "info_matrix = tfidf.fit_transform(df_movies[\"movie_info\"])\n",
    "info_matrix.shape"
   ]
  },
  {
   "cell_type": "code",
   "execution_count": 70,
   "metadata": {},
   "outputs": [],
   "source": [
    "from sklearn.metrics.pairwise import linear_kernel\n",
    "\n",
    "# Compute the cosine similarity matrix\n",
    "similarity_matrix_CB = linear_kernel(info_matrix, info_matrix)\n",
    "movies_link = df_movies[\"rotten_tomatoes_link\"]"
   ]
  },
  {
   "cell_type": "code",
   "execution_count": 71,
   "metadata": {},
   "outputs": [
    {
     "name": "stderr",
     "output_type": "stream",
     "text": [
      "100%|██████████| 100/100 [00:04<00:00, 21.02it/s]\n"
     ]
    }
   ],
   "source": [
    "columns = movies_link.unique()\n",
    "\n",
    "def generateFilmVector(user):\n",
    "    user_df = sample_critics.groupby('critic_name').get_group(user)\n",
    "    films = user_df['rotten_tomatoes_link'].unique()\n",
    "    user_vec = None\n",
    "    for film in films:\n",
    "        # Find the index of the film in the vector\n",
    "        index = np.where(columns == film)[0][0]\n",
    "        if type(user_vec) == type(None):\n",
    "            user_vec = similarity_matrix_CB[index]\n",
    "        else:\n",
    "            user_vec += similarity_matrix_CB[index]\n",
    "    user_vec[np.isin(columns, sample_critics[sample_critics['critic_name'] == critics[0]]['rotten_tomatoes_link'].unique())] = 0\n",
    "    return user_vec\n",
    "\n",
    "user_film_matrix_cb = []\n",
    "for critic in tqdm(critics):\n",
    "    user_film_matrix_cb.append(generateFilmVector(critic))"
   ]
  },
  {
   "cell_type": "code",
   "execution_count": 74,
   "metadata": {},
   "outputs": [
    {
     "name": "stderr",
     "output_type": "stream",
     "text": [
      "100%|██████████| 100/100 [00:00<00:00, 1505.09it/s]\n"
     ]
    }
   ],
   "source": [
    "recommend_list_cb = {}\n",
    "\n",
    "for critic in tqdm(critics):\n",
    "    index = list(critics).index(critic)\n",
    "    recommend_list_cb[critic] = sorted(zip(columns, user_film_matrix_cb[0]), key=lambda x: x[1], reverse=True)[:test_set[critic].size]"
   ]
  },
  {
   "cell_type": "code",
   "execution_count": 73,
   "metadata": {},
   "outputs": [
    {
     "data": {
      "text/plain": [
       "0.08406005574035781"
      ]
     },
     "execution_count": 73,
     "metadata": {},
     "output_type": "execute_result"
    }
   ],
   "source": [
    "# Calculate the accuracy of prediction\n",
    "count = 0\n",
    "for critic in critics:\n",
    "    for movie_id, score in recommend_list_cb[critic]:\n",
    "        if movie_id in test_set[critic]:\n",
    "            count += 1\n",
    "\n",
    "test_set_size = 0\n",
    "for critic in test_set:\n",
    "    test_set_size += test_set[critic].size\n",
    "\n",
    "count/test_set_size"
   ]
  },
  {
   "cell_type": "markdown",
   "metadata": {},
   "source": [
    "### 2.2 Baseline: Traditional collaborative filtering RS"
   ]
  },
  {
   "cell_type": "code",
   "execution_count": 41,
   "metadata": {},
   "outputs": [
    {
     "name": "stderr",
     "output_type": "stream",
     "text": [
      "100%|██████████| 100/100 [00:42<00:00,  2.38it/s]\n"
     ]
    }
   ],
   "source": [
    "# Initialize an empty data frame for user film matrix\n",
    "# columns = np.insert(sample_critics['rotten_tomatoes_link'].unique(), 0, 'user');\n",
    "# user_film_matrix = pd.DataFrame(columns=columns);\n",
    "columns = sample_critics['rotten_tomatoes_link'].unique()\n",
    "\n",
    "def generateFilmVector(user):\n",
    "    user_df = sample_critics.groupby('critic_name').get_group(user)\n",
    "    user_vec = np.zeros(columns.size, dtype='float')\n",
    "    films = user_df['rotten_tomatoes_link'].unique()\n",
    "    for film in films:\n",
    "        # Find the index of the film in the vector\n",
    "        index = np.where(columns == film)[0][0]\n",
    "        # Get the mode as review type\n",
    "        review_score = np.average(user_df.groupby('rotten_tomatoes_link').get_group(film)['review_score'])\n",
    "        # Assign value\n",
    "        user_vec[index] = review_score\n",
    "    return user_vec\n",
    "\n",
    "\n",
    "user_film_matrix_cf = []\n",
    "for critic in tqdm(critics):\n",
    "    user_film_matrix_cf.append(generateFilmVector(critic))"
   ]
  },
  {
   "cell_type": "code",
   "execution_count": 42,
   "metadata": {},
   "outputs": [],
   "source": [
    "user_film_matrix_cf = np.array(user_film_matrix_cf)"
   ]
  },
  {
   "cell_type": "code",
   "execution_count": 47,
   "metadata": {},
   "outputs": [],
   "source": [
    "from numpy.linalg import norm;\n",
    "user_similarity_matrix_cf = np.array([np.dot(user_film_matrix_cf, user_film_matrix_cf[i])/(norm(user_film_matrix_cf, axis=1)*norm(user_film_matrix_cf[i])) for i in range(100)])"
   ]
  },
  {
   "cell_type": "code",
   "execution_count": 48,
   "metadata": {},
   "outputs": [],
   "source": [
    "movie_ids = df_popular_movies['rotten_tomatoes_link'].unique()"
   ]
  },
  {
   "cell_type": "code",
   "execution_count": 49,
   "metadata": {},
   "outputs": [],
   "source": [
    "# Get watched movie list of a critic\n",
    "def getWatchedSetOf(critic):\n",
    "    critic_df = sample_critics.groupby('critic_name').get_group(critic)\n",
    "    return set(critic_df['rotten_tomatoes_link'].values)\n",
    "\n",
    "def getAverageScoreOf(ciritc):\n",
    "    return np.average(sample_critics.groupby('critic_name').get_group(ciritc)['review_score'].values)\n",
    "\n",
    "def getTop10NeighborsWithScore(vector):\n",
    "    simialr_users = dict(zip(critics, vector))\n",
    "    simialr_users = sorted(simialr_users.items(), key=lambda x: x[1], reverse=True)\n",
    "    top_10_neighbors = list(simialr_users)[1:11]\n",
    "    return top_10_neighbors\n",
    "\n",
    "def recommendScoreOf(uid, vector):\n",
    "    top_10_neighbors = getTop10NeighborsWithScore(vector)\n",
    "    avg_score_u = getAverageScoreOf(uid)\n",
    "    u_watched = getWatchedSetOf(uid)\n",
    "    mids = set(movie_ids).difference(u_watched) # Get the movies that haven't been watched by user u\n",
    "    scores = {}\n",
    "    \n",
    "    for mid in mids:\n",
    "        r_index = list(movie_ids).index(mid)\n",
    "        numerator, denominator = 0, 0\n",
    "        for vid, similarity in top_10_neighbors:\n",
    "            v_watched = getWatchedSetOf(vid)\n",
    "            v_index = list(critics).index(vid)\n",
    "            if mid in v_watched:\n",
    "                avg_score_v = getAverageScoreOf(vid)\n",
    "                v_m_score = user_film_matrix_cf[v_index][r_index]\n",
    "                numerator += similarity*(v_m_score-avg_score_v)\n",
    "                denominator += abs(similarity)\n",
    "        scores[mid] = avg_score_u+(numerator/denominator) if denominator else 0 # 0 represents i doesn't appear in any of the neighbours's history\n",
    "    \n",
    "    return scores"
   ]
  },
  {
   "cell_type": "code",
   "execution_count": 50,
   "metadata": {},
   "outputs": [
    {
     "name": "stderr",
     "output_type": "stream",
     "text": [
      "100%|██████████| 100/100 [1:14:39<00:00, 44.80s/it]\n"
     ]
    }
   ],
   "source": [
    "recommend_list_cf = {}\n",
    "\n",
    "for critic in tqdm(critics):\n",
    "    index = list(critics).index(critic)\n",
    "    recommend_list_cf[critic] = sorted(recommendScoreOf(critic, user_film_matrix_cf[index]).items(), key=lambda x: x[1], reverse=True)[:test_set[critic].size]"
   ]
  },
  {
   "cell_type": "code",
   "execution_count": 51,
   "metadata": {},
   "outputs": [],
   "source": [
    "# Calculate the accuracy of prediction\n",
    "count = 0\n",
    "for critic in critics:\n",
    "    for movie_id, score in recommend_list_cf[critic]:\n",
    "        if movie_id in test_set[critic]:\n",
    "            count += 1"
   ]
  },
  {
   "cell_type": "code",
   "execution_count": 52,
   "metadata": {},
   "outputs": [],
   "source": [
    "test_set_size = 0\n",
    "for critic in test_set:\n",
    "    test_set_size += test_set[critic].size"
   ]
  },
  {
   "cell_type": "code",
   "execution_count": 53,
   "metadata": {},
   "outputs": [
    {
     "data": {
      "text/plain": [
       "0.23213161916749078"
      ]
     },
     "execution_count": 53,
     "metadata": {},
     "output_type": "execute_result"
    }
   ],
   "source": [
    "count/test_set_size"
   ]
  },
  {
   "cell_type": "markdown",
   "metadata": {},
   "source": [
    "### 2.3 SCF RS (Note: use sentiemnt scores to replace ratings)"
   ]
  },
  {
   "cell_type": "code",
   "execution_count": 54,
   "metadata": {},
   "outputs": [
    {
     "name": "stderr",
     "output_type": "stream",
     "text": [
      "100%|██████████| 100/100 [00:41<00:00,  2.42it/s]\n"
     ]
    }
   ],
   "source": [
    "# Initialize an empty data frame for user film matrix\n",
    "# columns = np.insert(sample_critics['rotten_tomatoes_link'].unique(), 0, 'user');\n",
    "# user_film_matrix = pd.DataFrame(columns=columns);\n",
    "columns = sample_critics['rotten_tomatoes_link'].unique()\n",
    "\n",
    "def generateFilmVector(user):\n",
    "    user_df = sample_critics.groupby('critic_name').get_group(user)\n",
    "    user_vec = np.zeros(columns.size, dtype='float')\n",
    "    films = user_df['rotten_tomatoes_link'].unique()\n",
    "    for film in films:\n",
    "        # Find the index of the film in the vector\n",
    "        index = np.where(columns == film)[0][0]\n",
    "        # Get the mode as review type\n",
    "        review_score = np.average(user_df.groupby('rotten_tomatoes_link').get_group(film)['sentiment_score'])\n",
    "        # Assign value\n",
    "        user_vec[index] = review_score\n",
    "    return user_vec\n",
    "\n",
    "\n",
    "user_film_matrix_scf = []\n",
    "for critic in tqdm(critics):\n",
    "    user_film_matrix_scf.append(generateFilmVector(critic))"
   ]
  },
  {
   "cell_type": "code",
   "execution_count": 55,
   "metadata": {},
   "outputs": [],
   "source": [
    "user_film_matrix_scf = np.array(user_film_matrix_scf)"
   ]
  },
  {
   "cell_type": "code",
   "execution_count": 56,
   "metadata": {},
   "outputs": [
    {
     "data": {
      "text/plain": [
       "array([[0.     , 0.     , 0.     , ..., 0.     , 0.3363 , 0.     ],\n",
       "       [0.     , 0.     , 0.     , ..., 0.     , 0.     , 0.     ],\n",
       "       [0.     , 0.     , 0.29905, ..., 0.     , 0.     , 0.     ],\n",
       "       ...,\n",
       "       [0.     , 0.     , 0.     , ..., 0.     , 0.     , 0.88915],\n",
       "       [0.     , 0.     , 0.     , ..., 0.     , 0.     , 0.     ],\n",
       "       [0.     , 0.     , 0.6423 , ..., 0.     , 0.     , 0.     ]])"
      ]
     },
     "execution_count": 56,
     "metadata": {},
     "output_type": "execute_result"
    }
   ],
   "source": [
    "user_film_matrix_scf"
   ]
  },
  {
   "cell_type": "code",
   "execution_count": 57,
   "metadata": {},
   "outputs": [],
   "source": [
    "from numpy.linalg import norm\n",
    "user_similarity_matrix = np.array([np.dot(user_film_matrix_scf, user_film_matrix_scf[i])/(norm(user_film_matrix_scf, axis=1)*norm(user_film_matrix_scf[i])) for i in range(100)])"
   ]
  },
  {
   "cell_type": "code",
   "execution_count": 58,
   "metadata": {},
   "outputs": [],
   "source": [
    "movie_ids = df_popular_movies['rotten_tomatoes_link'].unique()"
   ]
  },
  {
   "cell_type": "code",
   "execution_count": 59,
   "metadata": {},
   "outputs": [],
   "source": [
    "# Get watch list of a critic\n",
    "def getWatchedSetOf(critic):\n",
    "    critic_df = sample_critics.groupby('critic_name').get_group(critic)\n",
    "    return set(critic_df['rotten_tomatoes_link'].values)\n",
    "\n",
    "def getAverageScoreOf(ciritc):\n",
    "    return np.average(sample_critics.groupby('critic_name').get_group(ciritc)['sentiment_score'].values)\n",
    "\n",
    "def getTop10NeighborsWithScore(vector):\n",
    "    simialr_users = dict(zip(critics, vector))\n",
    "    simialr_users = sorted(simialr_users.items(), key=lambda x: x[1], reverse=True)\n",
    "    top_10_neighbors = list(simialr_users)[1:11]\n",
    "    return top_10_neighbors\n",
    "\n",
    "def recommendScoreOf(uid, vector):\n",
    "    top_10_neighbors = getTop10NeighborsWithScore(vector)\n",
    "    avg_score_u = getAverageScoreOf(uid)\n",
    "    u_watched = getWatchedSetOf(uid)\n",
    "    mids = set(movie_ids).difference(u_watched) # Get the movies that haven't been watched by user u\n",
    "    scores = {}\n",
    "    \n",
    "    for mid in mids:\n",
    "        r_index = list(movie_ids).index(mid)\n",
    "        numerator, denominator = 0, 0\n",
    "        for vid, similarity in top_10_neighbors:\n",
    "            v_watched = getWatchedSetOf(vid)\n",
    "            v_index = list(critics).index(vid)\n",
    "            if mid in v_watched:\n",
    "                avg_score_v = getAverageScoreOf(vid)\n",
    "                v_m_score = user_film_matrix_scf[v_index][r_index]\n",
    "                numerator += similarity*(v_m_score-avg_score_v)\n",
    "                denominator += abs(similarity)\n",
    "        scores[mid] = avg_score_u+(numerator/denominator) if denominator else 0 # 0 represents i doesn't appear in any of the neighbours's history\n",
    "    \n",
    "    return scores;"
   ]
  },
  {
   "cell_type": "code",
   "execution_count": 60,
   "metadata": {},
   "outputs": [
    {
     "name": "stderr",
     "output_type": "stream",
     "text": [
      "100%|██████████| 100/100 [1:14:24<00:00, 44.65s/it]\n"
     ]
    }
   ],
   "source": [
    "recommend_list_scf = {}\n",
    "\n",
    "for critic in tqdm(critics):\n",
    "    index = list(critics).index(critic)\n",
    "    recommend_list_scf[critic] = sorted(recommendScoreOf(critic, user_film_matrix_scf[index]).items(), key=lambda x: x[1], reverse=True)[:test_set[critic].size]"
   ]
  },
  {
   "cell_type": "code",
   "execution_count": 61,
   "metadata": {},
   "outputs": [],
   "source": [
    "# Calculate the accuracy of prediction\n",
    "count_scf = 0\n",
    "for critic in critics:\n",
    "    for movie_id, score in recommend_list_scf[critic]:\n",
    "        if movie_id in test_set[critic]:\n",
    "            count_scf += 1"
   ]
  },
  {
   "cell_type": "code",
   "execution_count": 62,
   "metadata": {},
   "outputs": [],
   "source": [
    "test_set_size_scf = 0\n",
    "for critic in test_set:\n",
    "    test_set_size_scf += test_set[critic].size"
   ]
  },
  {
   "cell_type": "code",
   "execution_count": 63,
   "metadata": {},
   "outputs": [
    {
     "data": {
      "text/plain": [
       "0.19383259911894274"
      ]
     },
     "execution_count": 63,
     "metadata": {},
     "output_type": "execute_result"
    }
   ],
   "source": [
    "count_scf/test_set_size_scf"
   ]
  },
  {
   "cell_type": "code",
   "execution_count": null,
   "metadata": {},
   "outputs": [],
   "source": []
  }
 ],
 "metadata": {
  "kernelspec": {
   "display_name": "Python 3.9.7 64-bit",
   "language": "python",
   "name": "python3"
  },
  "language_info": {
   "codemirror_mode": {
    "name": "ipython",
    "version": 3
   },
   "file_extension": ".py",
   "mimetype": "text/x-python",
   "name": "python",
   "nbconvert_exporter": "python",
   "pygments_lexer": "ipython3",
   "version": "3.9.7"
  },
  "orig_nbformat": 4,
  "vscode": {
   "interpreter": {
    "hash": "aee8b7b246df8f9039afb4144a1f6fd8d2ca17a180786b69acc140d282b71a49"
   }
  }
 },
 "nbformat": 4,
 "nbformat_minor": 2
}
